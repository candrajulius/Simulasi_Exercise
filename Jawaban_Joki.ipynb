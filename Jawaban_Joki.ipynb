{
  "nbformat": 4,
  "nbformat_minor": 0,
  "metadata": {
    "colab": {
      "provenance": [],
      "authorship_tag": "ABX9TyM0wgu6473O4iqVpaJNP/Wl",
      "include_colab_link": true
    },
    "kernelspec": {
      "name": "python3",
      "display_name": "Python 3"
    },
    "language_info": {
      "name": "python"
    }
  },
  "cells": [
    {
      "cell_type": "markdown",
      "metadata": {
        "id": "view-in-github",
        "colab_type": "text"
      },
      "source": [
        "<a href=\"https://colab.research.google.com/github/candrajulius/Simulasi_Exercise/blob/main/Jawaban_Joki.ipynb\" target=\"_parent\"><img src=\"https://colab.research.google.com/assets/colab-badge.svg\" alt=\"Open In Colab\"/></a>"
      ]
    },
    {
      "cell_type": "markdown",
      "source": [
        "# 3. Jawaban\n",
        "Fungsi hitung menggunakan parameter *items, yang memungkinkan menerima argumen variabel jumlah.\n",
        "Pada saat pemanggilan fungsi hitung(*data), elemen-elemen dalam list data dianggap sebagai argumen terpisah.\n",
        "Selama iterasi di dalam loop for, nilai True dianggap sebagai 1, dan nilai False dianggap sebagai 0 ketika ditambahkan ke variabel total.\n",
        "Oleh karena itu, total dari penjumlahan elemen-elemen di dalam list data adalah 1 + 2 + 1 + 3 + 4 + 5 + 0 = 16.\n",
        "Jadi, outputnya adalah 16. Penting untuk dicatat bahwa dalam operasi penjumlahan, nilai boolean True dianggap sebagai 1, dan nilai boolean False dianggap sebagai"
      ],
      "metadata": {
        "id": "FHcU5TJuqMA4"
      }
    },
    {
      "cell_type": "code",
      "source": [
        "def hitung (*items):\n",
        "  total = 0\n",
        "  for item in items :\n",
        "    total += item\n",
        "  return total\n",
        "\n",
        "if __name__ == \"__main__\":\n",
        "  data = [1,2, True, 3, 4, 5, False]\n",
        "  print(hitung(*data))"
      ],
      "metadata": {
        "colab": {
          "base_uri": "https://localhost:8080/"
        },
        "id": "BnxHQ9XirTEt",
        "outputId": "96e50155-1140-41a2-c726-8af8638ace36"
      },
      "execution_count": 3,
      "outputs": [
        {
          "output_type": "stream",
          "name": "stdout",
          "text": [
            "16\n"
          ]
        }
      ]
    },
    {
      "cell_type": "markdown",
      "source": [
        "# 4. Jawaban"
      ],
      "metadata": {
        "id": "7cMFve4BtvtB"
      }
    },
    {
      "cell_type": "code",
      "source": [
        "def pecah_list(data_list, x):\n",
        "    list_1 = [item for item in data_list if item <= x]\n",
        "    list_2 = [item for item in data_list if item > x]\n",
        "    return list_1, list_2\n",
        "\n",
        "if __name__ == \"__main__\":\n",
        "    data_sumber = [5, 10, 2, 8, 15, 3, 7]\n",
        "    nilai_x = 8\n",
        "\n",
        "    hasil_list_1, hasil_list_2 = pecah_list(data_sumber, nilai_x)\n",
        "\n",
        "    print(\"List-1:\", hasil_list_1)\n",
        "    print(\"List-2:\", hasil_list_2)"
      ],
      "metadata": {
        "colab": {
          "base_uri": "https://localhost:8080/"
        },
        "id": "LwVQTvhTuJL7",
        "outputId": "f2296217-ea2e-4b55-c878-a88d3137821a"
      },
      "execution_count": 5,
      "outputs": [
        {
          "output_type": "stream",
          "name": "stdout",
          "text": [
            "List-1: [5, 2, 8, 3, 7]\n",
            "List-2: [10, 15]\n"
          ]
        }
      ]
    },
    {
      "cell_type": "markdown",
      "source": [
        "# 5. Jawaban"
      ],
      "metadata": {
        "id": "D4Qc51hHvvEd"
      }
    },
    {
      "cell_type": "code",
      "source": [
        "def rotasi_list(list_input, k):\n",
        "    # Menghitung indeks untuk memulai rotasi\n",
        "    k = k % len(list_input)\n",
        "\n",
        "    # Melakukan rotasi dengan slicing\n",
        "    rotated_list = list_input[-k:] + list_input[:-k]\n",
        "\n",
        "    return rotated_list\n",
        "\n",
        "if __name__ == \"__main__\":\n",
        "    data_list = [1, 2, 3, 4, 5]\n",
        "    nilai_k = 2\n",
        "\n",
        "    hasil_rotasi = rotasi_list(data_list, nilai_k)\n",
        "\n",
        "    print(\"input: \\n\")\n",
        "    print(\"data = \", data_list, \"dan k = \", nilai_k)\n",
        "\n",
        "    print(\"Output: \", hasil_rotasi)"
      ],
      "metadata": {
        "colab": {
          "base_uri": "https://localhost:8080/"
        },
        "id": "zc4Z2JFTvt4y",
        "outputId": "0ac60b66-11ca-4d31-ee0d-eae30602c09e"
      },
      "execution_count": 13,
      "outputs": [
        {
          "output_type": "stream",
          "name": "stdout",
          "text": [
            "input: \n",
            "\n",
            "data =  [1, 2, 3, 4, 5] dan k =  2\n",
            "Output:  [4, 5, 1, 2, 3]\n"
          ]
        }
      ]
    },
    {
      "cell_type": "markdown",
      "source": [
        "# 6. Jawaban"
      ],
      "metadata": {
        "id": "QJ0YyeRPwFH5"
      }
    },
    {
      "cell_type": "code",
      "source": [
        "def hapus_duplikat(nums):\n",
        "    if not nums:\n",
        "        return 0\n",
        "\n",
        "    i = 0\n",
        "    for j in range(1, len(nums)):\n",
        "        if nums[j] != nums[i]:\n",
        "            i += 1\n",
        "            nums[i] = nums[j]\n",
        "\n",
        "    # Panjang array setelah menghapus duplikat\n",
        "    panjang_setelah_hapus = i + 1\n",
        "\n",
        "    return panjang_setelah_hapus\n",
        "\n",
        "if __name__ == \"__main__\":\n",
        "    nums = [1, 1, 2, 2, 2, 3, 4, 4, 5]\n",
        "\n",
        "    panjang_setelah_hapus = hapus_duplikat(nums)\n",
        "\n",
        "    print(\"Input: nums = \", nums)\n",
        "    print(\"Output: \", panjang_setelah_hapus, \"nums = \" ,nums[:panjang_setelah_hapus])"
      ],
      "metadata": {
        "colab": {
          "base_uri": "https://localhost:8080/"
        },
        "id": "MmsN6bwMwIKR",
        "outputId": "1471129e-4f90-49dc-883e-aa8dfca583d7"
      },
      "execution_count": 11,
      "outputs": [
        {
          "output_type": "stream",
          "name": "stdout",
          "text": [
            "Input: nums =  [1, 2, 3, 4, 5, 3, 4, 4, 5]\n",
            "Output:  5 nums =  [1, 2, 3, 4, 5]\n"
          ]
        }
      ]
    }
  ]
}